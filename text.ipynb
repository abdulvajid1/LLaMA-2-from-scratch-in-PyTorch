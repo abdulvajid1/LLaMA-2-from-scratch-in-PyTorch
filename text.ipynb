{
 "cells": [
  {
   "cell_type": "code",
   "execution_count": 2,
   "metadata": {},
   "outputs": [],
   "source": [
    "import torch"
   ]
  },
  {
   "cell_type": "code",
   "execution_count": 3,
   "metadata": {},
   "outputs": [],
   "source": [
    "a = torch.randint(low=0, high=5, size=(5,))\n",
    "b = torch.tensor([1,3])"
   ]
  },
  {
   "cell_type": "code",
   "execution_count": 5,
   "metadata": {},
   "outputs": [
    {
     "data": {
      "text/plain": [
       "tensor([[ 4,  0,  3,  3,  2],\n",
       "        [12,  0,  9,  9,  6]])"
      ]
     },
     "execution_count": 5,
     "metadata": {},
     "output_type": "execute_result"
    }
   ],
   "source": [
    "b.outer(a)"
   ]
  },
  {
   "cell_type": "code",
   "execution_count": 7,
   "metadata": {},
   "outputs": [
    {
     "name": "stdout",
     "output_type": "stream",
     "text": [
      "tensor([ 0,  2,  4,  6,  8, 10, 12, 14, 16, 18, 20, 22, 24, 26, 28, 30, 32, 34,\n",
      "        36, 38, 40, 42, 44, 46, 48, 50, 52, 54, 56, 58, 60, 62])\n"
     ]
    }
   ],
   "source": [
    "i = torch.arange(0, 64 , 2) # the -2 part will be already dene when taken the arange with step of 2\n",
    "print(i)"
   ]
  },
  {
   "cell_type": "code",
   "execution_count": 8,
   "metadata": {},
   "outputs": [
    {
     "data": {
      "text/plain": [
       "tensor([1.0000e+00, 7.4989e-01, 5.6234e-01, 4.2170e-01, 3.1623e-01, 2.3714e-01,\n",
       "        1.7783e-01, 1.3335e-01, 1.0000e-01, 7.4989e-02, 5.6234e-02, 4.2170e-02,\n",
       "        3.1623e-02, 2.3714e-02, 1.7783e-02, 1.3335e-02, 1.0000e-02, 7.4989e-03,\n",
       "        5.6234e-03, 4.2170e-03, 3.1623e-03, 2.3714e-03, 1.7783e-03, 1.3335e-03,\n",
       "        1.0000e-03, 7.4989e-04, 5.6234e-04, 4.2170e-04, 3.1623e-04, 2.3714e-04,\n",
       "        1.7783e-04, 1.3335e-04])"
      ]
     },
     "execution_count": 8,
     "metadata": {},
     "output_type": "execute_result"
    }
   ],
   "source": [
    "theta = 1 / ( 10000 ** (i / 64))\n",
    "theta"
   ]
  },
  {
   "cell_type": "code",
   "execution_count": 10,
   "metadata": {},
   "outputs": [
    {
     "data": {
      "text/plain": [
       "tensor([ 0,  1,  2,  3,  4,  5,  6,  7,  8,  9, 10])"
      ]
     },
     "execution_count": 10,
     "metadata": {},
     "output_type": "execute_result"
    }
   ],
   "source": [
    "\n",
    "m = torch.arange(0, 11)\n",
    "m"
   ]
  },
  {
   "cell_type": "code",
   "execution_count": 11,
   "metadata": {},
   "outputs": [],
   "source": [
    "\n",
    "freq = torch.outer(m, theta).float()"
   ]
  },
  {
   "cell_type": "code",
   "execution_count": 12,
   "metadata": {},
   "outputs": [
    {
     "data": {
      "text/plain": [
       "tensor([[0.0000e+00, 0.0000e+00, 0.0000e+00, 0.0000e+00, 0.0000e+00, 0.0000e+00,\n",
       "         0.0000e+00, 0.0000e+00, 0.0000e+00, 0.0000e+00, 0.0000e+00, 0.0000e+00,\n",
       "         0.0000e+00, 0.0000e+00, 0.0000e+00, 0.0000e+00, 0.0000e+00, 0.0000e+00,\n",
       "         0.0000e+00, 0.0000e+00, 0.0000e+00, 0.0000e+00, 0.0000e+00, 0.0000e+00,\n",
       "         0.0000e+00, 0.0000e+00, 0.0000e+00, 0.0000e+00, 0.0000e+00, 0.0000e+00,\n",
       "         0.0000e+00, 0.0000e+00],\n",
       "        [1.0000e+00, 7.4989e-01, 5.6234e-01, 4.2170e-01, 3.1623e-01, 2.3714e-01,\n",
       "         1.7783e-01, 1.3335e-01, 1.0000e-01, 7.4989e-02, 5.6234e-02, 4.2170e-02,\n",
       "         3.1623e-02, 2.3714e-02, 1.7783e-02, 1.3335e-02, 1.0000e-02, 7.4989e-03,\n",
       "         5.6234e-03, 4.2170e-03, 3.1623e-03, 2.3714e-03, 1.7783e-03, 1.3335e-03,\n",
       "         1.0000e-03, 7.4989e-04, 5.6234e-04, 4.2170e-04, 3.1623e-04, 2.3714e-04,\n",
       "         1.7783e-04, 1.3335e-04],\n",
       "        [2.0000e+00, 1.4998e+00, 1.1247e+00, 8.4339e-01, 6.3246e-01, 4.7427e-01,\n",
       "         3.5566e-01, 2.6670e-01, 2.0000e-01, 1.4998e-01, 1.1247e-01, 8.4339e-02,\n",
       "         6.3246e-02, 4.7427e-02, 3.5566e-02, 2.6670e-02, 2.0000e-02, 1.4998e-02,\n",
       "         1.1247e-02, 8.4339e-03, 6.3246e-03, 4.7427e-03, 3.5566e-03, 2.6670e-03,\n",
       "         2.0000e-03, 1.4998e-03, 1.1247e-03, 8.4339e-04, 6.3246e-04, 4.7427e-04,\n",
       "         3.5566e-04, 2.6670e-04],\n",
       "        [3.0000e+00, 2.2497e+00, 1.6870e+00, 1.2651e+00, 9.4868e-01, 7.1141e-01,\n",
       "         5.3348e-01, 4.0006e-01, 3.0000e-01, 2.2497e-01, 1.6870e-01, 1.2651e-01,\n",
       "         9.4868e-02, 7.1141e-02, 5.3348e-02, 4.0006e-02, 3.0000e-02, 2.2497e-02,\n",
       "         1.6870e-02, 1.2651e-02, 9.4868e-03, 7.1141e-03, 5.3348e-03, 4.0006e-03,\n",
       "         3.0000e-03, 2.2497e-03, 1.6870e-03, 1.2651e-03, 9.4868e-04, 7.1141e-04,\n",
       "         5.3348e-04, 4.0006e-04],\n",
       "        [4.0000e+00, 2.9996e+00, 2.2494e+00, 1.6868e+00, 1.2649e+00, 9.4855e-01,\n",
       "         7.1131e-01, 5.3341e-01, 4.0000e-01, 2.9996e-01, 2.2494e-01, 1.6868e-01,\n",
       "         1.2649e-01, 9.4855e-02, 7.1131e-02, 5.3341e-02, 4.0000e-02, 2.9996e-02,\n",
       "         2.2494e-02, 1.6868e-02, 1.2649e-02, 9.4855e-03, 7.1131e-03, 5.3341e-03,\n",
       "         4.0000e-03, 2.9996e-03, 2.2494e-03, 1.6868e-03, 1.2649e-03, 9.4855e-04,\n",
       "         7.1131e-04, 5.3341e-04],\n",
       "        [5.0000e+00, 3.7495e+00, 2.8117e+00, 2.1085e+00, 1.5811e+00, 1.1857e+00,\n",
       "         8.8914e-01, 6.6676e-01, 5.0000e-01, 3.7495e-01, 2.8117e-01, 2.1085e-01,\n",
       "         1.5811e-01, 1.1857e-01, 8.8914e-02, 6.6676e-02, 5.0000e-02, 3.7495e-02,\n",
       "         2.8117e-02, 2.1085e-02, 1.5811e-02, 1.1857e-02, 8.8914e-03, 6.6676e-03,\n",
       "         5.0000e-03, 3.7495e-03, 2.8117e-03, 2.1085e-03, 1.5811e-03, 1.1857e-03,\n",
       "         8.8914e-04, 6.6676e-04],\n",
       "        [6.0000e+00, 4.4994e+00, 3.3740e+00, 2.5302e+00, 1.8974e+00, 1.4228e+00,\n",
       "         1.0670e+00, 8.0011e-01, 6.0000e-01, 4.4994e-01, 3.3740e-01, 2.5302e-01,\n",
       "         1.8974e-01, 1.4228e-01, 1.0670e-01, 8.0011e-02, 6.0000e-02, 4.4994e-02,\n",
       "         3.3740e-02, 2.5302e-02, 1.8974e-02, 1.4228e-02, 1.0670e-02, 8.0011e-03,\n",
       "         6.0000e-03, 4.4994e-03, 3.3740e-03, 2.5302e-03, 1.8974e-03, 1.4228e-03,\n",
       "         1.0670e-03, 8.0011e-04],\n",
       "        [7.0000e+00, 5.2493e+00, 3.9364e+00, 2.9519e+00, 2.2136e+00, 1.6600e+00,\n",
       "         1.2448e+00, 9.3347e-01, 7.0000e-01, 5.2493e-01, 3.9364e-01, 2.9519e-01,\n",
       "         2.2136e-01, 1.6600e-01, 1.2448e-01, 9.3347e-02, 7.0000e-02, 5.2493e-02,\n",
       "         3.9364e-02, 2.9519e-02, 2.2136e-02, 1.6600e-02, 1.2448e-02, 9.3346e-03,\n",
       "         7.0000e-03, 5.2493e-03, 3.9364e-03, 2.9519e-03, 2.2136e-03, 1.6600e-03,\n",
       "         1.2448e-03, 9.3347e-04],\n",
       "        [8.0000e+00, 5.9992e+00, 4.4987e+00, 3.3736e+00, 2.5298e+00, 1.8971e+00,\n",
       "         1.4226e+00, 1.0668e+00, 8.0000e-01, 5.9992e-01, 4.4987e-01, 3.3736e-01,\n",
       "         2.5298e-01, 1.8971e-01, 1.4226e-01, 1.0668e-01, 8.0000e-02, 5.9992e-02,\n",
       "         4.4987e-02, 3.3736e-02, 2.5298e-02, 1.8971e-02, 1.4226e-02, 1.0668e-02,\n",
       "         8.0000e-03, 5.9992e-03, 4.4987e-03, 3.3736e-03, 2.5298e-03, 1.8971e-03,\n",
       "         1.4226e-03, 1.0668e-03],\n",
       "        [9.0000e+00, 6.7490e+00, 5.0611e+00, 3.7953e+00, 2.8460e+00, 2.1342e+00,\n",
       "         1.6005e+00, 1.2002e+00, 9.0000e-01, 6.7490e-01, 5.0611e-01, 3.7953e-01,\n",
       "         2.8460e-01, 2.1342e-01, 1.6005e-01, 1.2002e-01, 9.0000e-02, 6.7490e-02,\n",
       "         5.0611e-02, 3.7953e-02, 2.8461e-02, 2.1342e-02, 1.6005e-02, 1.2002e-02,\n",
       "         9.0000e-03, 6.7490e-03, 5.0611e-03, 3.7953e-03, 2.8461e-03, 2.1342e-03,\n",
       "         1.6005e-03, 1.2002e-03],\n",
       "        [1.0000e+01, 7.4989e+00, 5.6234e+00, 4.2170e+00, 3.1623e+00, 2.3714e+00,\n",
       "         1.7783e+00, 1.3335e+00, 1.0000e+00, 7.4989e-01, 5.6234e-01, 4.2170e-01,\n",
       "         3.1623e-01, 2.3714e-01, 1.7783e-01, 1.3335e-01, 1.0000e-01, 7.4989e-02,\n",
       "         5.6234e-02, 4.2170e-02, 3.1623e-02, 2.3714e-02, 1.7783e-02, 1.3335e-02,\n",
       "         1.0000e-02, 7.4989e-03, 5.6234e-03, 4.2170e-03, 3.1623e-03, 2.3714e-03,\n",
       "         1.7783e-03, 1.3335e-03]])"
      ]
     },
     "execution_count": 12,
     "metadata": {},
     "output_type": "execute_result"
    }
   ],
   "source": [
    "freq"
   ]
  },
  {
   "cell_type": "code",
   "execution_count": 13,
   "metadata": {},
   "outputs": [],
   "source": [
    "\n",
    "\n",
    "\n",
    "precomputed = torch.polar(torch.ones_like(freq), freq)"
   ]
  },
  {
   "cell_type": "code",
   "execution_count": 65,
   "metadata": {},
   "outputs": [],
   "source": [
    "embedding = torch.tensor([[[[1,2,3,4]]]]).float()"
   ]
  },
  {
   "cell_type": "code",
   "execution_count": 66,
   "metadata": {},
   "outputs": [
    {
     "data": {
      "text/plain": [
       "torch.Size([1, 1, 1, 4])"
      ]
     },
     "execution_count": 66,
     "metadata": {},
     "output_type": "execute_result"
    }
   ],
   "source": [
    "embedding.shape"
   ]
  },
  {
   "cell_type": "code",
   "execution_count": 67,
   "metadata": {},
   "outputs": [
    {
     "data": {
      "text/plain": [
       "tensor([[[[1.+2.j, 3.+4.j]]]])"
      ]
     },
     "execution_count": 67,
     "metadata": {},
     "output_type": "execute_result"
    }
   ],
   "source": [
    "torch.view_as_complex(embedding.reshape(*embedding.shape[:-1],-1,2))"
   ]
  },
  {
   "cell_type": "code",
   "execution_count": 73,
   "metadata": {},
   "outputs": [
    {
     "data": {
      "text/plain": [
       "torch.Size([2, 1, 2, 4])"
      ]
     },
     "execution_count": 73,
     "metadata": {},
     "output_type": "execute_result"
    }
   ],
   "source": [
    "embedding = torch.tensor([[[[1,2,3,4],[6,7,8,9]]],[[[1,2,3,4],[6,7,8,9]]]]).float()\n",
    "embedding.size()"
   ]
  },
  {
   "cell_type": "code",
   "execution_count": 74,
   "metadata": {},
   "outputs": [
    {
     "data": {
      "text/plain": [
       "tensor([[[[1., 2., 3., 4.],\n",
       "          [6., 7., 8., 9.]]],\n",
       "\n",
       "\n",
       "        [[[1., 2., 3., 4.],\n",
       "          [6., 7., 8., 9.]]]])"
      ]
     },
     "execution_count": 74,
     "metadata": {},
     "output_type": "execute_result"
    }
   ],
   "source": [
    "embedding"
   ]
  },
  {
   "cell_type": "code",
   "execution_count": 75,
   "metadata": {},
   "outputs": [
    {
     "data": {
      "text/plain": [
       "tensor([[[[1.+2.j, 3.+4.j],\n",
       "          [6.+7.j, 8.+9.j]]],\n",
       "\n",
       "\n",
       "        [[[1.+2.j, 3.+4.j],\n",
       "          [6.+7.j, 8.+9.j]]]])"
      ]
     },
     "execution_count": 75,
     "metadata": {},
     "output_type": "execute_result"
    }
   ],
   "source": [
    "torch.view_as_complex(embedding.reshape(*embedding.shape[:-1],-1,2))\n"
   ]
  },
  {
   "cell_type": "code",
   "execution_count": null,
   "metadata": {},
   "outputs": [],
   "source": []
  },
  {
   "cell_type": "code",
   "execution_count": null,
   "metadata": {},
   "outputs": [],
   "source": []
  }
 ],
 "metadata": {
  "kernelspec": {
   "display_name": "GPU",
   "language": "python",
   "name": "python3"
  },
  "language_info": {
   "codemirror_mode": {
    "name": "ipython",
    "version": 3
   },
   "file_extension": ".py",
   "mimetype": "text/x-python",
   "name": "python",
   "nbconvert_exporter": "python",
   "pygments_lexer": "ipython3",
   "version": "3.8.20"
  }
 },
 "nbformat": 4,
 "nbformat_minor": 2
}
